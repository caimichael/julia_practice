{
 "cells": [
  {
   "cell_type": "markdown",
   "metadata": {},
   "source": [
    "###Exercise 1###"
   ]
  },
  {
   "cell_type": "markdown",
   "metadata": {},
   "source": [
    "http://quant-econ.net/jl/julia_essentials.html"
   ]
  },
  {
   "cell_type": "code",
   "execution_count": 2,
   "metadata": {
    "collapsed": true
   },
   "outputs": [],
   "source": [
    "#Part 1: Given two numeric arrays or tuples x_vals and y_vals\n",
    "#of equal length, compute their inner product using zip()"
   ]
  },
  {
   "cell_type": "code",
   "execution_count": 100,
   "metadata": {
    "collapsed": false
   },
   "outputs": [
    {
     "data": {
      "text/plain": [
       "Base.Zip2{Array{Int64,1},Array{Int64,1}}([1,2,3,4,5],[6,7,8,9,10])"
      ]
     },
     "execution_count": 100,
     "metadata": {},
     "output_type": "execute_result"
    }
   ],
   "source": [
    "x_vals = [1,2,3,4,5]\n",
    "y_vals = [6,7,8,9,10]\n",
    "\n",
    "comb = zip(x_vals,y_vals)\n",
    "#? Using zip for dot product"
   ]
  },
  {
   "cell_type": "code",
   "execution_count": 41,
   "metadata": {
    "collapsed": false
   },
   "outputs": [
    {
     "data": {
      "text/plain": [
       "99-element Array{Int64,1}:\n",
       " 1\n",
       " 0\n",
       " 1\n",
       " 0\n",
       " 1\n",
       " 0\n",
       " 1\n",
       " 0\n",
       " 1\n",
       " 0\n",
       " 1\n",
       " 0\n",
       " 1\n",
       " ⋮\n",
       " 0\n",
       " 1\n",
       " 0\n",
       " 1\n",
       " 0\n",
       " 1\n",
       " 0\n",
       " 1\n",
       " 0\n",
       " 1\n",
       " 0\n",
       " 1"
      ]
     },
     "execution_count": 41,
     "metadata": {},
     "output_type": "execute_result"
    }
   ],
   "source": [
    "#Part 2: Using a comprehension, count the number of even numbers\n",
    "#in 0,...,99\n",
    "evens = [x%2 for x in 1:99]"
   ]
  },
  {
   "cell_type": "code",
   "execution_count": 87,
   "metadata": {
    "collapsed": false
   },
   "outputs": [
    {
     "data": {
      "text/plain": [
       "4-element Array{Any,1}:\n",
       " false\n",
       "  true\n",
       " false\n",
       "  true"
      ]
     },
     "execution_count": 87,
     "metadata": {},
     "output_type": "execute_result"
    }
   ],
   "source": [
    "#Part 3: Using a comprehension, \n",
    "#take pairs = ((2,5), (4,2), (9,8), (12,10)) and count the number\n",
    "#of pairs (a,b) such that both a and b are even\n",
    "\n",
    "pairs = [(2,5),(4,2),(9,8),(12,10)]\n",
    "even_pairs = [pairs[i][1] %2 == 0 && pairs[i][2] %2 == 0\n",
    "    for (i,a) in enumerate(pairs)]\n",
    "#still not 1, 0 instead of true, false"
   ]
  },
  {
   "cell_type": "code",
   "execution_count": 81,
   "metadata": {
    "collapsed": false
   },
   "outputs": [
    {
     "data": {
      "text/plain": [
       "1"
      ]
     },
     "execution_count": 81,
     "metadata": {},
     "output_type": "execute_result"
    }
   ],
   "source": [
    "#Test code for Part 3\n",
    "for (i,a) in enumerate(pairs)\n",
    "    if pairs[i][1] %2 == 0\n",
    "        if pairs[i][2] %2 == 0\n",
    "            return 1\n",
    "        end\n",
    "    else\n",
    "        return 0\n",
    "    end\n",
    "end"
   ]
  },
  {
   "cell_type": "markdown",
   "metadata": {},
   "source": [
    "###Exercise 2###"
   ]
  },
  {
   "cell_type": "code",
   "execution_count": 95,
   "metadata": {
    "collapsed": false
   },
   "outputs": [
    {
     "data": {
      "text/plain": [
       "p (generic function with 1 method)"
      ]
     },
     "execution_count": 95,
     "metadata": {},
     "output_type": "execute_result"
    }
   ],
   "source": [
    "function p(x, coeff)\n",
    "    n = length(coeff)\n",
    "    xpoly = [x^i for i in 1:n]\n",
    "    return dot(coeff,xpoly)\n",
    "end"
   ]
  },
  {
   "cell_type": "code",
   "execution_count": 99,
   "metadata": {
    "collapsed": false
   },
   "outputs": [
    {
     "data": {
      "text/plain": [
       "true"
      ]
     },
     "execution_count": 99,
     "metadata": {},
     "output_type": "execute_result"
    }
   ],
   "source": [
    "#test\n",
    "coeffs = [2,4,8]\n",
    "x = 5\n",
    "p(x,coeffs) == 2*5^1+4*5^2+8*5^3"
   ]
  },
  {
   "cell_type": "markdown",
   "metadata": {},
   "source": [
    "###Exercise 3###"
   ]
  },
  {
   "cell_type": "code",
   "execution_count": 115,
   "metadata": {
    "collapsed": false
   },
   "outputs": [
    {
     "data": {
      "text/plain": [
       "numcaps (generic function with 1 method)"
      ]
     },
     "execution_count": 115,
     "metadata": {},
     "output_type": "execute_result"
    }
   ],
   "source": [
    "function numcaps(str)\n",
    "    split_str = split(str,\"\")\n",
    "    cap_split_str = split(uppercase(str),\"\")\n",
    "    bool_list = []\n",
    "    for (i,item) in enumerate(split_str)\n",
    "        if split_str[i] == cap_split_str[i]\n",
    "            append!(bool_list,[1])\n",
    "        else\n",
    "            append!(bool_list,[0])\n",
    "        end\n",
    "    end\n",
    "    return sum(bool_list)\n",
    "end"
   ]
  },
  {
   "cell_type": "markdown",
   "metadata": {},
   "source": [
    "###Exercise 4####"
   ]
  },
  {
   "cell_type": "code",
   "execution_count": 124,
   "metadata": {
    "collapsed": false
   },
   "outputs": [
    {
     "data": {
      "text/plain": [
       "subset (generic function with 1 method)"
      ]
     },
     "execution_count": 124,
     "metadata": {},
     "output_type": "execute_result"
    }
   ],
   "source": [
    "#Write a function that takes two sequences seq_a and seq_b \n",
    "#as arguments and returns true if every element in seq_a is\n",
    "#also an element of seq_b, else false\n",
    "function subset(seq_a,seq_b)\n",
    "    dict = [x => 1 for x in seq_a]\n",
    "    for item in seq_b\n",
    "        try \n",
    "            dict[item]\n",
    "        catch\n",
    "            return false\n",
    "            break\n",
    "        end\n",
    "    end\n",
    "    return true\n",
    "end"
   ]
  },
  {
   "cell_type": "code",
   "execution_count": 128,
   "metadata": {
    "collapsed": false
   },
   "outputs": [
    {
     "data": {
      "text/plain": [
       "false"
      ]
     },
     "execution_count": 128,
     "metadata": {},
     "output_type": "execute_result"
    }
   ],
   "source": [
    "seq_1 = [1,2,4,7,8]\n",
    "seq_2 = [1,2,4,7,8]\n",
    "seq_3 = [1,2,7,9,10,\"a\"]\n",
    "subset(seq_3,seq_1)"
   ]
  },
  {
   "cell_type": "markdown",
   "metadata": {},
   "source": [
    "###Exercise 5###"
   ]
  },
  {
   "cell_type": "code",
   "execution_count": null,
   "metadata": {
    "collapsed": true
   },
   "outputs": [],
   "source": [
    "#Write a function approximation routine \n",
    "#A function, func, mapping some interval [a,b] into R\n",
    "#two scalars, a and b, providing the limits of this interval\n",
    "#An integer n determining the number of grid points\n",
    "#A number x satisfying a <= x <= b\n",
    "#Uses piecewise linear interpolation\n",
    "function linapprox(func,a,b,n,x)\n",
    "    "
   ]
  },
  {
   "cell_type": "markdown",
   "metadata": {},
   "source": [
    "###Exercise 6###"
   ]
  },
  {
   "cell_type": "code",
   "execution_count": null,
   "metadata": {
    "collapsed": true
   },
   "outputs": [],
   "source": [
    "#write a program to calculate the total population across \n",
    "#these cities\n"
   ]
  }
 ],
 "metadata": {
  "kernelspec": {
   "display_name": "Julia 0.4.3",
   "language": "julia",
   "name": "julia-0.4"
  },
  "language_info": {
   "file_extension": ".jl",
   "mimetype": "application/julia",
   "name": "julia",
   "version": "0.4.3"
  }
 },
 "nbformat": 4,
 "nbformat_minor": 0
}
